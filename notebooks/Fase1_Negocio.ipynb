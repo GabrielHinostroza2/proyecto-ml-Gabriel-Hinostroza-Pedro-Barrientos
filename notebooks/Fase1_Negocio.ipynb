{
  "cells": [
    {
      "cell_type": "markdown",
      "id": "5b8d9264",
      "metadata": {
        "id": "5b8d9264"
      },
      "source": [
        "\n",
        "# Proyecto ML (Airbnb Seattle)\n",
        "# **Fase 1 Comprensión del Negocio**\n",
        "**Asignatura:** Machine Learning (MLY0100)  \n",
        "**Dataset:** Airbnb Seattle (Kaggle)  \n",
        "**Ruta de los csv:** `data/01_raw/listings.csv`, `calendar.csv`, `reviews.csv`\n",
        "\n",
        "> Este proyecto se divide en : 3 notebooks (uno por fase)\n"
      ]
    },
    {
      "cell_type": "markdown",
      "id": "4cd2393d",
      "metadata": {
        "id": "4cd2393d"
      },
      "source": [
        "\n",
        "## 1. Objetivo de negocio\n",
        "Analizar y predecir factores que influyen en el **precio** y la **ocupación/atractividad** de alojamientos en Seattle.\n",
        "\n",
        "- **Regresión (target):** `price`.\n",
        "- **Clasificación (target):** `instant_bookable` o `host_is_superhost`.\n",
        "\n",
        "**Valor:** apoyar pricing dinámico y mejorar la experiencia de reserva.\n",
        "\n",
        "## 2. Supuestos y alcance\n",
        "- Se trabajará con los siguientes datos; `listings.csv`, `calendar.csv`, `reviews.csv`.\n",
        "- El análisis cubre CRISP-DM fases 1–3.\n",
        "\n",
        "## 3. Plan de proyecto\n",
        "1. Comprensión del negocio (este notebook).\n",
        "2. Comprensión de datos (EDA).\n",
        "3. Preparación de datos (limpieza, transformaciones, datasets).\n"
      ]
    },
    {
      "cell_type": "markdown",
      "id": "41a09ba0",
      "metadata": {
        "id": "41a09ba0"
      },
      "source": [
        "### Contexto del negocio\n",
        "Airbnb es una empresa que conecta anfitriones con huéspedes. El desafío de negocio está en comprender cómo las características de las propiedades y de los anfitriones afectan el precio y la reputación. Esto permite optimizar estrategias de precios y mejorar la experiencia de los clientes."
      ]
    },
    {
      "cell_type": "markdown",
      "id": "cceb3c72",
      "metadata": {
        "id": "cceb3c72"
      },
      "source": [
        "### Justificación de objetivos\n",
        "- **Regresión (`price`)**: El precio es una variable central para la toma de decisiones de los huéspedes. Predecirlo permite entender los factores que lo explican.\n",
        "- **Clasificación (`instant_bookable` o `host_is_superhost`)**: Estas variables reflejan la facilidad de reserva y la confianza en el anfitrión. Clasificarlas ayuda a mejorar la plataforma."
      ]
    },
    {
      "cell_type": "markdown",
      "id": "6b4f598a",
      "metadata": {
        "id": "6b4f598a"
      },
      "source": [
        "### Hipótesis\n",
        "- Los alojamientos con mayor capacidad de huéspedes tendrán precios más altos.\n",
        "- Los superhosts tienden a tener más reseñas positivas.\n",
        "- El tipo de habitación influye directamente en el precio.\n",
        "- La tasa de ocupación aumenta en temporadas altas (según el calendario)."
      ]
    }
  ],
  "metadata": {
    "colab": {
      "provenance": []
    },
    "language_info": {
      "name": "python"
    },
    "kernelspec": {
      "name": "python3",
      "display_name": "Python 3"
    }
  },
  "nbformat": 4,
  "nbformat_minor": 5
}