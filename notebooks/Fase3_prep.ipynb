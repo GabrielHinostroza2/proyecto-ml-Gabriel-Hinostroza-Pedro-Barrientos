{
  "cells": [
    {
      "cell_type": "markdown",
      "id": "b25cd1db",
      "metadata": {
        "id": "b25cd1db"
      },
      "source": [
        "\n",
        "# Proyecto ML (Airbnb Seattle) — Fase 3 — Preparación de los Datos\n",
        "**Asignatura:** Machine Learning (MLY0100)  \n",
        "**Dataset:** Airbnb Seattle (Kaggle)  \n",
        "**Ruta esperada de datos:** `data/01_raw/listings.csv`, `calendar.csv`, `reviews.csv`\n",
        "\n",
        "> Este notebook sigue la rúbrica: 3 notebooks (uno por fase) y usa pandas, numpy, matplotlib, seaborn, plotly, scikit-learn.\n"
      ]
    },
    {
      "cell_type": "code",
      "execution_count": 1,
      "id": "7f3ca36c",
      "metadata": {
        "id": "7f3ca36c"
      },
      "outputs": [],
      "source": [
        "\n",
        "# Librerías principales\n",
        "import warnings; warnings.filterwarnings(\"ignore\")\n",
        "from pathlib import Path\n",
        "import numpy as np\n",
        "import pandas as pd\n",
        "import matplotlib.pyplot as plt\n",
        "\n",
        "from sklearn.model_selection import train_test_split\n",
        "from sklearn.compose import ColumnTransformer\n",
        "from sklearn.preprocessing import OneHotEncoder, StandardScaler\n",
        "from sklearn.pipeline import Pipeline\n",
        "from sklearn.impute import SimpleImputer\n",
        "from sklearn.linear_model import LinearRegression, LogisticRegression\n",
        "from sklearn.metrics import (\n",
        "    mean_absolute_error, r2_score,\n",
        "    accuracy_score, f1_score,\n",
        "    confusion_matrix, classification_report, roc_auc_score\n",
        ")\n",
        "\n",
        "# Funciones de apoyo\n",
        "def clean_price(s: pd.Series):\n",
        "    if s.dtype == object:\n",
        "        s = s.str.replace(r\"[\\$,]\", \"\", regex=True)\n",
        "    return pd.to_numeric(s, errors=\"coerce\")\n",
        "\n",
        "def parse_bool_t_f(series: pd.Series):\n",
        "    return series.map({\"t\": True, \"f\": False}).astype(\"boolean\")\n",
        "\n",
        "def add_date_parts(df: pd.DataFrame, col: str):\n",
        "    if col in df.columns:\n",
        "        df[col] = pd.to_datetime(df[col], errors=\"coerce\")\n",
        "        df[f\"{col}_year\"]  = df[col].dt.year\n",
        "        df[f\"{col}_month\"] = df[col].dt.month\n",
        "        df[f\"{col}_dow\"]   = df[col].dt.dayofweek\n",
        "    return df\n"
      ]
    },
    {
      "cell_type": "code",
      "execution_count": null,
      "id": "xMRi30hQiBQp",
      "metadata": {
        "id": "xMRi30hQiBQp"
      },
      "outputs": [],
      "source": [
        "# Rutas de trabajo\n",
        "from pathlib import Path\n",
        "\n",
        "# Detecta si estoy en la raíz del repo o dentro de notebooks/\n",
        "CWD = Path.cwd().resolve()\n",
        "if (CWD / \"data\" / \"01_raw\").exists():\n",
        "    DATA = CWD / \"data\"\n",
        "elif (CWD.parent / \"data\" / \"01_raw\").exists():\n",
        "    DATA = CWD.parent / \"data\"         \n",
        "else:\n",
        "    raise FileNotFoundError(\"No encontré la carpeta data/01_raw ni en CWD ni en su padre.\")\n",
        "\n",
        "RAW      = DATA / \"01_raw\"\n",
        "PRIMARY  = DATA / \"03_primary\"\n",
        "INTER    = DATA / \"02_intermediate\"\n",
        "FEATURE  = DATA / \"04_feature\"\n",
        "MODELIN  = DATA / \"05_model_input\"\n",
        "\n",
        "PRIMARY.mkdir(parents=True, exist_ok=True)\n",
        "\n",
        "LISTINGS = RAW / \"listings.csv\"\n",
        "CALENDAR = RAW / \"calendar.csv\"\n",
        "REVIEWS  = RAW / \"reviews.csv\"\n",
        "\n",
        "import pandas as pd\n",
        "listings = pd.read_csv(LISTINGS, low_memory=False)\n",
        "calendar = pd.read_csv(CALENDAR, parse_dates=[\"date\"], low_memory=False)\n",
        "reviews  = pd.read_csv(REVIEWS,  parse_dates=[\"date\"], low_memory=False)\n",
        "\n",
        "\n",
        "# Limpieza de precios\n",
        "if \"price\" in listings.columns:\n",
        "    listings[\"price_float\"] = clean_price(listings[\"price\"])\n",
        "\n",
        "for c in [\"weekly_price\",\"monthly_price\",\"security_deposit\",\"cleaning_fee\",\"extra_people\"]:\n",
        "    if c in listings.columns:\n",
        "        listings[c] = clean_price(listings[c])\n",
        "\n",
        "# Conversión de columnas booleanas\n",
        "for b in [\"instant_bookable\",\"host_is_superhost\"]:\n",
        "    if b in listings.columns and listings[b].dtype == object:\n",
        "        listings[b] = parse_bool_t_f(listings[b])\n",
        "\n",
        "# Transformación de fechas\n",
        "for dcol in [\"last_scraped\",\"host_since\",\"first_review\",\"last_review\"]:\n",
        "    if dcol in listings.columns:\n",
        "        listings = add_date_parts(listings, dcol)\n"
      ]
    },
    {
      "cell_type": "markdown",
      "id": "1172e772",
      "metadata": {
        "id": "1172e772"
      },
      "source": [
        "### Dataset de Regresión (price)"
      ]
    },
    {
      "cell_type": "code",
      "execution_count": 8,
      "id": "1859d454",
      "metadata": {
        "colab": {
          "base_uri": "https://localhost:8080/"
        },
        "id": "1859d454",
        "outputId": "8ddc9966-e6ef-49f5-9d75-8cca197d6b10"
      },
      "outputs": [
        {
          "name": "stdout",
          "output_type": "stream",
          "text": [
            "=== REGRESIÓN ===\n",
            "MAE: 31.83 | R²: 0.689\n"
          ]
        }
      ],
      "source": [
        "\n",
        "# Selección de variables numéricas y categóricas\n",
        "num_cols = [c for c in [\n",
        "    \"accommodates\",\"bathrooms\",\"bedrooms\",\"beds\",\n",
        "    \"number_of_reviews\",\"review_scores_rating\",\n",
        "    \"weekly_price\",\"monthly_price\",\"security_deposit\",\"cleaning_fee\",\"extra_people\"\n",
        "] if c in listings.columns]\n",
        "\n",
        "cat_cols = [c for c in [\"room_type\",\"neighbourhood_cleansed\",\"property_type\"] if c in listings.columns]\n",
        "\n",
        "# Construcción de dataset\n",
        "X_reg = listings[num_cols + cat_cols].copy()\n",
        "y_reg = listings[\"price_float\"].copy()\n",
        "\n",
        "mask = ~y_reg.isna()\n",
        "X_reg, y_reg = X_reg[mask], y_reg[mask]\n",
        "\n",
        "for c in X_reg.columns:\n",
        "    if str(X_reg[c].dtype) == \"boolean\":\n",
        "        X_reg[c] = X_reg[c].astype(float).fillna(0.0)\n",
        "\n",
        "# Pipeline de preprocesamiento\n",
        "pre_num = Pipeline([(\"imp\", SimpleImputer(strategy=\"median\")), (\"sc\", StandardScaler())])\n",
        "pre_cat = Pipeline([(\"imp\", SimpleImputer(strategy=\"most_frequent\")), (\"oh\", OneHotEncoder(handle_unknown=\"ignore\"))])\n",
        "\n",
        "prep_reg = ColumnTransformer([\n",
        "    (\"num\", pre_num, [c for c in num_cols if c in X_reg.columns]),\n",
        "    (\"cat\", pre_cat, [c for c in cat_cols if c in X_reg.columns]),\n",
        "])\n",
        "\n",
        "reg_model = Pipeline([(\"prep\", prep_reg), (\"reg\", LinearRegression())])\n",
        "\n",
        "# Entrenamiento y evaluación\n",
        "Xtr, Xte, ytr, yte = train_test_split(X_reg, y_reg, test_size=0.2, random_state=42)\n",
        "reg_model.fit(Xtr, ytr)\n",
        "preds = reg_model.predict(Xte)\n",
        "\n",
        "print(\"=== REGRESIÓN ===\")\n",
        "print(\"MAE:\", round(mean_absolute_error(yte, preds), 2),\n",
        "      \"| R²:\", round(r2_score(yte, preds), 3))\n",
        "\n",
        "# Guardado de dataset limpio\n",
        "reg_out = PRIMARY / \"listings_for_regression.csv\"\n",
        "listings.loc[mask, [\"price_float\"] + [c for c in X_reg.columns]].to_csv(reg_out, index=False)\n",
        "\n"
      ]
    },
    {
      "cell_type": "markdown",
      "id": "3c93bb84",
      "metadata": {
        "id": "3c93bb84"
      },
      "source": [
        "### Dataset de Clasificación (instant_bookable o host_is_superhost)"
      ]
    },
    {
      "cell_type": "code",
      "execution_count": 9,
      "id": "eac87782",
      "metadata": {
        "colab": {
          "base_uri": "https://localhost:8080/"
        },
        "id": "eac87782",
        "outputId": "bf3adfde-a84c-4c63-d3fc-e471f78a8834"
      },
      "outputs": [
        {
          "name": "stdout",
          "output_type": "stream",
          "text": [
            "\n",
            "=== CLASIFICACIÓN ===\n",
            "Target: instant_bookable\n",
            "Accuracy: 0.631 | F1: 0.305\n",
            "\n",
            "Matriz de confusión:\n",
            " [[420 226]\n",
            " [ 56  62]]\n",
            "\n",
            "Reporte de clasificación:\n",
            "               precision    recall  f1-score   support\n",
            "\n",
            "           0      0.882     0.650     0.749       646\n",
            "           1      0.215     0.525     0.305       118\n",
            "\n",
            "    accuracy                          0.631       764\n",
            "   macro avg      0.549     0.588     0.527       764\n",
            "weighted avg      0.779     0.631     0.680       764\n",
            "\n",
            "ROC-AUC: 0.608\n"
          ]
        }
      ],
      "source": [
        "\n",
        "# Selección de target binario\n",
        "target_bin = None\n",
        "for cand in [\"instant_bookable\",\"host_is_superhost\"]:\n",
        "    if cand in listings.columns:\n",
        "        target_bin = cand\n",
        "        break\n",
        "\n",
        "if target_bin is None:\n",
        "    raise ValueError(\"No se encontró columna binaria\")\n",
        "\n",
        "clf_df = listings.copy()\n",
        "\n",
        "if clf_df[target_bin].dtype == object:\n",
        "    clf_df[target_bin] = clf_df[target_bin].map({\"t\":1,\"f\":0})\n",
        "clf_df[target_bin] = clf_df[target_bin].astype(int)\n",
        "\n",
        "num_c = [c for c in [\"price_float\",\"accommodates\",\"bathrooms\",\"bedrooms\",\"beds\",\n",
        "                     \"number_of_reviews\",\"review_scores_rating\"] if c in clf_df.columns]\n",
        "cat_c = [c for c in [\"room_type\",\"neighbourhood_cleansed\",\"property_type\"] if c in clf_df.columns]\n",
        "\n",
        "X_clf = clf_df[num_c + cat_c].copy()\n",
        "y_clf = clf_df[target_bin].copy()\n",
        "\n",
        "mask2 = ~y_clf.isna()\n",
        "X_clf, y_clf = X_clf[mask2], y_clf[mask2]\n",
        "\n",
        "for c in X_clf.columns:\n",
        "    if str(X_clf[c].dtype) == \"boolean\":\n",
        "        X_clf[c] = X_clf[c].astype(float).fillna(0.0)\n",
        "\n",
        "# Pipeline de preprocesamiento\n",
        "pre_num_clf = Pipeline([(\"imp\", SimpleImputer(strategy=\"median\")), (\"sc\", StandardScaler())])\n",
        "pre_cat_clf = Pipeline([(\"imp\", SimpleImputer(strategy=\"most_frequent\")), (\"oh\", OneHotEncoder(handle_unknown=\"ignore\"))])\n",
        "\n",
        "prep_clf = ColumnTransformer([\n",
        "    (\"num\", pre_num_clf, [c for c in num_c if c in X_clf.columns]),\n",
        "    (\"cat\", pre_cat_clf, [c for c in cat_c if c in X_clf.columns]),\n",
        "])\n",
        "\n",
        "# Split estratificado y entrenamiento\n",
        "Xtr, Xte, ytr, yte = train_test_split(X_clf, y_clf, test_size=0.2, random_state=42, stratify=y_clf)\n",
        "\n",
        "clf = Pipeline([(\"prep\", prep_clf), (\"clf\", LogisticRegression(max_iter=1000, class_weight=\"balanced\"))])\n",
        "clf.fit(Xtr, ytr)\n",
        "yp = clf.predict(Xte)\n",
        "\n",
        "# Resultados de clasificación\n",
        "print(\"\\n=== CLASIFICACIÓN ===\")\n",
        "print(\"Target:\", target_bin)\n",
        "print(\"Accuracy:\", round(accuracy_score(yte, yp), 3),\n",
        "      \"| F1:\", round(f1_score(yte, yp), 3))\n",
        "print(\"\\nMatriz de confusión:\\n\", confusion_matrix(yte, yp))\n",
        "print(\"\\nReporte de clasificación:\\n\", classification_report(yte, yp, digits=3))\n",
        "\n",
        "# ROC-AUC\n",
        "yp_prob = clf.predict_proba(Xte)[:,1]\n",
        "print(\"ROC-AUC:\", round(roc_auc_score(yte, yp_prob), 3))\n",
        "\n",
        "# Guardado de dataset limpio\n",
        "clf_out = PRIMARY / \"listings_for_classification.csv\"\n",
        "clf_df.loc[mask2, [target_bin] + [c for c in X_clf.columns]].to_csv(clf_out, index=False)\n",
        "\n"
      ]
    },
    {
      "cell_type": "markdown",
      "id": "7939d95f",
      "metadata": {
        "id": "7939d95f"
      },
      "source": [
        "### Justificación de decisiones en preparación\n",
        "- Se evitó *data leakage* excluyendo `price_float` de las features de regresión.\n",
        "- Se imputaron valores nulos con la mediana (numéricas) y la moda (categóricas).\n",
        "- Se aplicó escalado estándar para estabilizar los modelos lineales.\n",
        "- Se aplicó one-hot encoding a variables categóricas para poder usarlas en los modelos.\n",
        "- En clasificación se usó `class_weight='balanced'` debido al desbalance de clases.\n",
        "- Se evaluaron métricas adicionales: Accuracy, F1, Matriz de confusión, Reporte de clasificación y ROC-AUC."
      ]
    },
    {
      "cell_type": "markdown",
      "id": "033a833b",
      "metadata": {
        "id": "033a833b"
      },
      "source": [
        "### Visualización de distribución de precios tras limpieza"
      ]
    },
    {
      "cell_type": "code",
      "execution_count": 10,
      "id": "f1d99f9c",
      "metadata": {
        "colab": {
          "base_uri": "https://localhost:8080/",
          "height": 472
        },
        "id": "f1d99f9c",
        "outputId": "44f79567-1e00-4def-fb8c-7d4aab871608"
      },
      "outputs": [
        {
          "data": {
            "image/png": "[encoded data removed]",
            "text/plain": [
              "<Figure size 640x480 with 1 Axes>"
            ]
          },
          "metadata": {},
          "output_type": "display_data"
        }
      ],
      "source": [
        "plt.hist(listings['price_float'].dropna(), bins=50)\n",
        "plt.title('Distribución de precios después de limpieza')\n",
        "plt.xlabel('Precio')\n",
        "plt.ylabel('Frecuencia')\n",
        "plt.show()"
      ]
    },
    {
      "cell_type": "markdown",
      "id": "2ae8d07a",
      "metadata": {
        "id": "2ae8d07a"
      },
      "source": [
        "### Conclusiones de Fase 3\n",
        "- El dataset quedó preparado para modelado sin leakage.\n",
        "- Se generaron datasets separados para regresión y clasificación.\n",
        "- Los resultados iniciales muestran un modelo base con métricas razonables.\n",
        "- El siguiente paso es integrar estos datasets y pipelines en Kedro para mayor reproducibilidad."
      ]
    }
  ],
  "metadata": {
    "colab": {
      "provenance": []
    },
    "kernelspec": {
      "display_name": "base",
      "language": "python",
      "name": "python3"
    },
    "language_info": {
      "codemirror_mode": {
        "name": "ipython",
        "version": 3
      },
      "file_extension": ".py",
      "mimetype": "text/x-python",
      "name": "python",
      "nbconvert_exporter": "python",
      "pygments_lexer": "ipython3",
      "version": "3.12.7"
    }
  },
  "nbformat": 4,
  "nbformat_minor": 5
}
